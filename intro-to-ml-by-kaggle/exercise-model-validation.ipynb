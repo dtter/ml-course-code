{
 "cells": [
  {
   "cell_type": "markdown",
   "id": "7558c3c3",
   "metadata": {
    "papermill": {
     "duration": 0.027712,
     "end_time": "2021-10-30T05:02:11.457694",
     "exception": false,
     "start_time": "2021-10-30T05:02:11.429982",
     "status": "completed"
    },
    "tags": []
   },
   "source": [
    "**This notebook is an exercise in the [Introduction to Machine Learning](https://www.kaggle.com/learn/intro-to-machine-learning) course.  You can reference the tutorial at [this link](https://www.kaggle.com/dansbecker/model-validation).**\n",
    "\n",
    "---\n"
   ]
  },
  {
   "cell_type": "markdown",
   "id": "5d9c0988",
   "metadata": {
    "papermill": {
     "duration": 0.018581,
     "end_time": "2021-10-30T05:02:11.494880",
     "exception": false,
     "start_time": "2021-10-30T05:02:11.476299",
     "status": "completed"
    },
    "tags": []
   },
   "source": [
    "## Recap\n",
    "You've built a model. In this exercise you will test how good your model is.\n",
    "\n",
    "Run the cell below to set up your coding environment where the previous exercise left off."
   ]
  },
  {
   "cell_type": "code",
   "execution_count": 1,
   "id": "41b622dd",
   "metadata": {
    "execution": {
     "iopub.execute_input": "2021-10-30T05:02:11.527687Z",
     "iopub.status.busy": "2021-10-30T05:02:11.526343Z",
     "iopub.status.idle": "2021-10-30T05:02:13.025900Z",
     "shell.execute_reply": "2021-10-30T05:02:13.026809Z",
     "shell.execute_reply.started": "2021-10-30T04:20:21.457291Z"
    },
    "papermill": {
     "duration": 1.51771,
     "end_time": "2021-10-30T05:02:13.027233",
     "exception": false,
     "start_time": "2021-10-30T05:02:11.509523",
     "status": "completed"
    },
    "tags": []
   },
   "outputs": [
    {
     "name": "stdout",
     "output_type": "stream",
     "text": [
      "First in-sample predictions: [208500. 181500. 223500. 140000. 250000.]\n",
      "Actual target values for those homes: [208500, 181500, 223500, 140000, 250000]\n",
      "Setup Complete\n"
     ]
    }
   ],
   "source": [
    "# Code you have previously used to load data\n",
    "import pandas as pd\n",
    "from sklearn.tree import DecisionTreeRegressor\n",
    "\n",
    "# Path of the file to read\n",
    "iowa_file_path = '../input/home-data-for-ml-course/train.csv'\n",
    "\n",
    "home_data = pd.read_csv(iowa_file_path)\n",
    "y = home_data.SalePrice\n",
    "feature_columns = ['LotArea', 'YearBuilt', '1stFlrSF', '2ndFlrSF', 'FullBath', 'BedroomAbvGr', 'TotRmsAbvGrd']\n",
    "X = home_data[feature_columns]\n",
    "\n",
    "# Specify Model\n",
    "iowa_model = DecisionTreeRegressor()\n",
    "# Fit Model\n",
    "iowa_model.fit(X, y)\n",
    "\n",
    "print(\"First in-sample predictions:\", iowa_model.predict(X.head()))\n",
    "print(\"Actual target values for those homes:\", y.head().tolist())\n",
    "\n",
    "# Set up code checking\n",
    "from learntools.core import binder\n",
    "binder.bind(globals())\n",
    "from learntools.machine_learning.ex4 import *\n",
    "print(\"Setup Complete\")"
   ]
  },
  {
   "cell_type": "markdown",
   "id": "0a10ccd0",
   "metadata": {
    "papermill": {
     "duration": 0.021646,
     "end_time": "2021-10-30T05:02:13.064146",
     "exception": false,
     "start_time": "2021-10-30T05:02:13.042500",
     "status": "completed"
    },
    "tags": []
   },
   "source": [
    "# Exercises\n",
    "\n",
    "## Step 1: Split Your Data\n",
    "Use the `train_test_split` function to split up your data.\n",
    "\n",
    "Give it the argument `random_state=1` so the `check` functions know what to expect when verifying your code.\n",
    "\n",
    "Recall, your features are loaded in the DataFrame **X** and your target is loaded in **y**.\n"
   ]
  },
  {
   "cell_type": "code",
   "execution_count": 2,
   "id": "3e9eb299",
   "metadata": {
    "execution": {
     "iopub.execute_input": "2021-10-30T05:02:13.114950Z",
     "iopub.status.busy": "2021-10-30T05:02:13.111823Z",
     "iopub.status.idle": "2021-10-30T05:02:13.130723Z",
     "shell.execute_reply": "2021-10-30T05:02:13.131749Z",
     "shell.execute_reply.started": "2021-10-30T04:20:21.725010Z"
    },
    "papermill": {
     "duration": 0.045383,
     "end_time": "2021-10-30T05:02:13.132003",
     "exception": false,
     "start_time": "2021-10-30T05:02:13.086620",
     "status": "completed"
    },
    "tags": []
   },
   "outputs": [
    {
     "data": {
      "application/javascript": [
       "parent.postMessage({\"jupyterEvent\": \"custom.exercise_interaction\", \"data\": {\"outcomeType\": 1, \"valueTowardsCompletion\": 0.25, \"interactionType\": 1, \"questionType\": 2, \"questionId\": \"1_SplitData\", \"learnToolsVersion\": \"0.3.4\", \"failureMessage\": \"\", \"exceptionClass\": \"\", \"trace\": \"\"}}, \"*\")"
      ],
      "text/plain": [
       "<IPython.core.display.Javascript object>"
      ]
     },
     "metadata": {},
     "output_type": "display_data"
    },
    {
     "data": {
      "text/markdown": [
       "<span style=\"color:#33cc33\">Correct</span>"
      ],
      "text/plain": [
       "Correct"
      ]
     },
     "metadata": {},
     "output_type": "display_data"
    }
   ],
   "source": [
    "# Import the train_test_split function and uncomment\n",
    "from sklearn.model_selection import train_test_split\n",
    "\n",
    "# fill in and uncomment\n",
    "train_X, val_X, train_y, val_y = train_test_split(X, y, random_state=1)\n",
    "\n",
    "# Check your answer\n",
    "step_1.check()"
   ]
  },
  {
   "cell_type": "code",
   "execution_count": 3,
   "id": "fa9ca4ea",
   "metadata": {
    "execution": {
     "iopub.execute_input": "2021-10-30T05:02:13.173551Z",
     "iopub.status.busy": "2021-10-30T05:02:13.172745Z",
     "iopub.status.idle": "2021-10-30T05:02:13.176986Z",
     "shell.execute_reply": "2021-10-30T05:02:13.177622Z",
     "shell.execute_reply.started": "2021-10-30T04:20:21.747731Z"
    },
    "papermill": {
     "duration": 0.024142,
     "end_time": "2021-10-30T05:02:13.177801",
     "exception": false,
     "start_time": "2021-10-30T05:02:13.153659",
     "status": "completed"
    },
    "tags": []
   },
   "outputs": [],
   "source": [
    "# The lines below will show you a hint or the solution.\n",
    "# step_1.hint() \n",
    "# step_1.solution()\n"
   ]
  },
  {
   "cell_type": "markdown",
   "id": "f5e58100",
   "metadata": {
    "papermill": {
     "duration": 0.016606,
     "end_time": "2021-10-30T05:02:13.209435",
     "exception": false,
     "start_time": "2021-10-30T05:02:13.192829",
     "status": "completed"
    },
    "tags": []
   },
   "source": [
    "## Step 2: Specify and Fit the Model\n",
    "\n",
    "Create a `DecisionTreeRegressor` model and fit it to the relevant data.\n",
    "Set `random_state` to 1 again when creating the model."
   ]
  },
  {
   "cell_type": "code",
   "execution_count": 4,
   "id": "d701b493",
   "metadata": {
    "execution": {
     "iopub.execute_input": "2021-10-30T05:02:13.245822Z",
     "iopub.status.busy": "2021-10-30T05:02:13.244725Z",
     "iopub.status.idle": "2021-10-30T05:02:13.276741Z",
     "shell.execute_reply": "2021-10-30T05:02:13.277593Z",
     "shell.execute_reply.started": "2021-10-30T04:22:41.267282Z"
    },
    "papermill": {
     "duration": 0.053178,
     "end_time": "2021-10-30T05:02:13.277845",
     "exception": false,
     "start_time": "2021-10-30T05:02:13.224667",
     "status": "completed"
    },
    "tags": []
   },
   "outputs": [
    {
     "name": "stdout",
     "output_type": "stream",
     "text": [
      "[186500. 184000. 130000.  92000. 164500. 220000. 335000. 144152. 215000.\n",
      " 262000.]\n",
      "[186500. 184000. 130000.  92000. 164500. 220000. 335000. 144152. 215000.\n",
      " 262000.]\n"
     ]
    },
    {
     "data": {
      "application/javascript": [
       "parent.postMessage({\"jupyterEvent\": \"custom.exercise_interaction\", \"data\": {\"outcomeType\": 1, \"valueTowardsCompletion\": 0.25, \"interactionType\": 1, \"questionType\": 2, \"questionId\": \"2_FitModelWithTrain\", \"learnToolsVersion\": \"0.3.4\", \"failureMessage\": \"\", \"exceptionClass\": \"\", \"trace\": \"\"}}, \"*\")"
      ],
      "text/plain": [
       "<IPython.core.display.Javascript object>"
      ]
     },
     "metadata": {},
     "output_type": "display_data"
    },
    {
     "data": {
      "text/markdown": [
       "<span style=\"color:#33cc33\">Correct</span>"
      ],
      "text/plain": [
       "Correct"
      ]
     },
     "metadata": {},
     "output_type": "display_data"
    }
   ],
   "source": [
    "# You imported DecisionTreeRegressor in your last exercise\n",
    "# and that code has been copied to the setup code above. So, no need to\n",
    "# import it again\n",
    "\n",
    "# Specify the model\n",
    "iowa_model = DecisionTreeRegressor(random_state=1)\n",
    "\n",
    "# Fit iowa_model with the training data.\n",
    "iowa_model.fit(train_X, train_y)\n",
    "\n",
    "# Check your answer\n",
    "step_2.check()"
   ]
  },
  {
   "cell_type": "code",
   "execution_count": 5,
   "id": "c31e3bec",
   "metadata": {
    "execution": {
     "iopub.execute_input": "2021-10-30T05:02:13.321555Z",
     "iopub.status.busy": "2021-10-30T05:02:13.320509Z",
     "iopub.status.idle": "2021-10-30T05:02:13.324045Z",
     "shell.execute_reply": "2021-10-30T05:02:13.324684Z",
     "shell.execute_reply.started": "2021-10-30T04:20:21.770103Z"
    },
    "papermill": {
     "duration": 0.024672,
     "end_time": "2021-10-30T05:02:13.324859",
     "exception": false,
     "start_time": "2021-10-30T05:02:13.300187",
     "status": "completed"
    },
    "tags": []
   },
   "outputs": [],
   "source": [
    "# step_2.hint()\n",
    "# step_2.solution()"
   ]
  },
  {
   "cell_type": "markdown",
   "id": "a7667df0",
   "metadata": {
    "papermill": {
     "duration": 0.01567,
     "end_time": "2021-10-30T05:02:13.356636",
     "exception": false,
     "start_time": "2021-10-30T05:02:13.340966",
     "status": "completed"
    },
    "tags": []
   },
   "source": [
    "## Step 3: Make Predictions with Validation data\n"
   ]
  },
  {
   "cell_type": "code",
   "execution_count": 6,
   "id": "1299156a",
   "metadata": {
    "execution": {
     "iopub.execute_input": "2021-10-30T05:02:13.395795Z",
     "iopub.status.busy": "2021-10-30T05:02:13.394664Z",
     "iopub.status.idle": "2021-10-30T05:02:13.407646Z",
     "shell.execute_reply": "2021-10-30T05:02:13.408255Z",
     "shell.execute_reply.started": "2021-10-30T04:24:06.989192Z"
    },
    "papermill": {
     "duration": 0.034009,
     "end_time": "2021-10-30T05:02:13.408439",
     "exception": false,
     "start_time": "2021-10-30T05:02:13.374430",
     "status": "completed"
    },
    "tags": []
   },
   "outputs": [
    {
     "data": {
      "application/javascript": [
       "parent.postMessage({\"jupyterEvent\": \"custom.exercise_interaction\", \"data\": {\"outcomeType\": 1, \"valueTowardsCompletion\": 0.25, \"interactionType\": 1, \"questionType\": 2, \"questionId\": \"3_ValPreds\", \"learnToolsVersion\": \"0.3.4\", \"failureMessage\": \"\", \"exceptionClass\": \"\", \"trace\": \"\"}}, \"*\")"
      ],
      "text/plain": [
       "<IPython.core.display.Javascript object>"
      ]
     },
     "metadata": {},
     "output_type": "display_data"
    },
    {
     "data": {
      "text/markdown": [
       "<span style=\"color:#33cc33\">Correct</span>"
      ],
      "text/plain": [
       "Correct"
      ]
     },
     "metadata": {},
     "output_type": "display_data"
    }
   ],
   "source": [
    "# Predict with all validation observations\n",
    "val_predictions = iowa_model.predict(val_X)\n",
    "\n",
    "# Check your answer\n",
    "step_3.check()"
   ]
  },
  {
   "cell_type": "code",
   "execution_count": 7,
   "id": "8eea525c",
   "metadata": {
    "execution": {
     "iopub.execute_input": "2021-10-30T05:02:13.446707Z",
     "iopub.status.busy": "2021-10-30T05:02:13.445656Z",
     "iopub.status.idle": "2021-10-30T05:02:13.453518Z",
     "shell.execute_reply": "2021-10-30T05:02:13.454179Z",
     "shell.execute_reply.started": "2021-10-30T04:38:17.409558Z"
    },
    "papermill": {
     "duration": 0.028896,
     "end_time": "2021-10-30T05:02:13.454359",
     "exception": false,
     "start_time": "2021-10-30T05:02:13.425463",
     "status": "completed"
    },
    "tags": []
   },
   "outputs": [
    {
     "data": {
      "application/javascript": [
       "parent.postMessage({\"jupyterEvent\": \"custom.exercise_interaction\", \"data\": {\"interactionType\": 3, \"questionType\": 2, \"questionId\": \"3_ValPreds\", \"learnToolsVersion\": \"0.3.4\", \"valueTowardsCompletion\": 0.0, \"failureMessage\": \"\", \"exceptionClass\": \"\", \"trace\": \"\", \"outcomeType\": 4}}, \"*\")"
      ],
      "text/plain": [
       "<IPython.core.display.Javascript object>"
      ]
     },
     "metadata": {},
     "output_type": "display_data"
    },
    {
     "data": {
      "text/markdown": [
       "<span style=\"color:#33cc99\">Solution:</span> \n",
       "```python\n",
       "val_predictions = iowa_model.predict(val_X)\n",
       "```"
      ],
      "text/plain": [
       "Solution: \n",
       "```python\n",
       "val_predictions = iowa_model.predict(val_X)\n",
       "```"
      ]
     },
     "metadata": {},
     "output_type": "display_data"
    }
   ],
   "source": [
    "# step_3.hint()\n",
    "step_3.solution()"
   ]
  },
  {
   "cell_type": "markdown",
   "id": "bb61de3d",
   "metadata": {
    "papermill": {
     "duration": 0.017695,
     "end_time": "2021-10-30T05:02:13.490387",
     "exception": false,
     "start_time": "2021-10-30T05:02:13.472692",
     "status": "completed"
    },
    "tags": []
   },
   "source": [
    "Inspect your predictions and actual values from validation data."
   ]
  },
  {
   "cell_type": "code",
   "execution_count": 8,
   "id": "d8eed39c",
   "metadata": {
    "execution": {
     "iopub.execute_input": "2021-10-30T05:02:13.538820Z",
     "iopub.status.busy": "2021-10-30T05:02:13.531830Z",
     "iopub.status.idle": "2021-10-30T05:02:13.651827Z",
     "shell.execute_reply": "2021-10-30T05:02:13.650200Z",
     "shell.execute_reply.started": "2021-10-30T04:39:33.657892Z"
    },
    "papermill": {
     "duration": 0.143066,
     "end_time": "2021-10-30T05:02:13.652174",
     "exception": true,
     "start_time": "2021-10-30T05:02:13.509108",
     "status": "failed"
    },
    "tags": []
   },
   "outputs": [
    {
     "name": "stdout",
     "output_type": "stream",
     "text": [
      "[307000. 223500. 145000. 155000. 140000.]\n"
     ]
    },
    {
     "ename": "NameError",
     "evalue": "name 'head_val_predictions' is not defined",
     "output_type": "error",
     "traceback": [
      "\u001b[0;31m---------------------------------------------------------------------------\u001b[0m",
      "\u001b[0;31mNameError\u001b[0m                                 Traceback (most recent call last)",
      "\u001b[0;32m/tmp/ipykernel_20/3362819018.py\u001b[0m in \u001b[0;36m<module>\u001b[0;34m\u001b[0m\n\u001b[1;32m      7\u001b[0m \u001b[0mhead_val_X\u001b[0m \u001b[0;34m=\u001b[0m \u001b[0mval_X\u001b[0m\u001b[0;34m.\u001b[0m\u001b[0mhead\u001b[0m\u001b[0;34m(\u001b[0m\u001b[0;34m)\u001b[0m\u001b[0;34m\u001b[0m\u001b[0;34m\u001b[0m\u001b[0m\n\u001b[1;32m      8\u001b[0m \u001b[0mhead_v_predictions\u001b[0m \u001b[0;34m=\u001b[0m \u001b[0miowa_model\u001b[0m\u001b[0;34m.\u001b[0m\u001b[0mpredict\u001b[0m\u001b[0;34m(\u001b[0m\u001b[0mhead_val_X\u001b[0m\u001b[0;34m)\u001b[0m\u001b[0;34m\u001b[0m\u001b[0;34m\u001b[0m\u001b[0m\n\u001b[0;32m----> 9\u001b[0;31m \u001b[0mprint\u001b[0m\u001b[0;34m(\u001b[0m\u001b[0mhead_val_predictions\u001b[0m\u001b[0;34m)\u001b[0m\u001b[0;34m\u001b[0m\u001b[0;34m\u001b[0m\u001b[0m\n\u001b[0m",
      "\u001b[0;31mNameError\u001b[0m: name 'head_val_predictions' is not defined"
     ]
    }
   ],
   "source": [
    "# print the top few validation predictions\n",
    "head_train_X = train_X.head()\n",
    "head_train_predictions = iowa_model.predict(head_train_X)\n",
    "print(head_train_predictions)\n",
    "\n",
    "# print the top few actual prices from validation data\n",
    "head_val_X = val_X.head()\n",
    "head_v_predictions = iowa_model.predict(head_val_X)\n",
    "print(head_val_predictions)"
   ]
  },
  {
   "cell_type": "markdown",
   "id": "6aaf288a",
   "metadata": {
    "papermill": {
     "duration": null,
     "end_time": null,
     "exception": null,
     "start_time": null,
     "status": "pending"
    },
    "tags": []
   },
   "source": [
    "What do you notice that is different from what you saw with in-sample predictions (which are printed after the top code cell in this page).\n",
    "\n",
    "Do you remember why validation predictions differ from in-sample (or training) predictions? This is an important idea from the last lesson.\n",
    "\n",
    "## Step 4: Calculate the Mean Absolute Error in Validation Data\n"
   ]
  },
  {
   "cell_type": "code",
   "execution_count": null,
   "id": "14e9feb0",
   "metadata": {
    "execution": {
     "iopub.execute_input": "2021-10-30T04:44:43.519541Z",
     "iopub.status.busy": "2021-10-30T04:44:43.518426Z",
     "iopub.status.idle": "2021-10-30T04:44:43.683243Z",
     "shell.execute_reply": "2021-10-30T04:44:43.681834Z",
     "shell.execute_reply.started": "2021-10-30T04:44:43.519494Z"
    },
    "papermill": {
     "duration": null,
     "end_time": null,
     "exception": null,
     "start_time": null,
     "status": "pending"
    },
    "tags": []
   },
   "outputs": [],
   "source": [
    "from sklearn.metrics import mean_absolute_error\n",
    "val_mae = mean_absolute_error(val_y, val_predictions)\n",
    "\n",
    "# uncomment following line to see the validation_mae\n",
    "print(val_mae)\n",
    "\n",
    "# Check your answer\n",
    "step_4.check()"
   ]
  },
  {
   "cell_type": "code",
   "execution_count": null,
   "id": "1296f0dd",
   "metadata": {
    "execution": {
     "iopub.execute_input": "2021-10-30T04:44:26.438172Z",
     "iopub.status.busy": "2021-10-30T04:44:26.437617Z",
     "iopub.status.idle": "2021-10-30T04:44:26.450975Z",
     "shell.execute_reply": "2021-10-30T04:44:26.450050Z",
     "shell.execute_reply.started": "2021-10-30T04:44:26.438139Z"
    },
    "papermill": {
     "duration": null,
     "end_time": null,
     "exception": null,
     "start_time": null,
     "status": "pending"
    },
    "tags": []
   },
   "outputs": [],
   "source": [
    "# step_4.hint()\n",
    "# step_4.solution()"
   ]
  },
  {
   "cell_type": "markdown",
   "id": "c5c6c459",
   "metadata": {
    "papermill": {
     "duration": null,
     "end_time": null,
     "exception": null,
     "start_time": null,
     "status": "pending"
    },
    "tags": []
   },
   "source": [
    "Is that MAE good?  There isn't a general rule for what values are good that applies across applications. But you'll see how to use (and improve) this number in the next step.\n",
    "\n",
    "# Keep Going\n",
    "\n",
    "You are ready for **[Underfitting and Overfitting](https://www.kaggle.com/dansbecker/underfitting-and-overfitting).**\n"
   ]
  }
 ],
 "metadata": {
  "kernelspec": {
   "display_name": "Python 3",
   "language": "python",
   "name": "python3"
  },
  "language_info": {
   "codemirror_mode": {
    "name": "ipython",
    "version": 3
   },
   "file_extension": ".py",
   "mimetype": "text/x-python",
   "name": "python",
   "nbconvert_exporter": "python",
   "pygments_lexer": "ipython3",
   "version": "3.7.10"
  },
  "papermill": {
   "default_parameters": {},
   "duration": 13.091414,
   "end_time": "2021-10-30T05:02:14.382246",
   "environment_variables": {},
   "exception": true,
   "input_path": "__notebook__.ipynb",
   "output_path": "__notebook__.ipynb",
   "parameters": {},
   "start_time": "2021-10-30T05:02:01.290832",
   "version": "2.3.3"
  }
 },
 "nbformat": 4,
 "nbformat_minor": 5
}
