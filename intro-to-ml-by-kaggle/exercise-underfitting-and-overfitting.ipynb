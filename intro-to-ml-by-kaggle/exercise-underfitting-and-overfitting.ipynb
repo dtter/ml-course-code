{
 "cells": [
  {
   "cell_type": "markdown",
   "id": "7b95e10c",
   "metadata": {
    "papermill": {
     "duration": 0.012812,
     "end_time": "2021-10-30T07:32:32.436539",
     "exception": false,
     "start_time": "2021-10-30T07:32:32.423727",
     "status": "completed"
    },
    "tags": []
   },
   "source": [
    "**This notebook is an exercise in the [Introduction to Machine Learning](https://www.kaggle.com/learn/intro-to-machine-learning) course.  You can reference the tutorial at [this link](https://www.kaggle.com/dansbecker/underfitting-and-overfitting).**\n",
    "\n",
    "---\n"
   ]
  },
  {
   "cell_type": "markdown",
   "id": "83419d39",
   "metadata": {
    "papermill": {
     "duration": 0.007179,
     "end_time": "2021-10-30T07:32:32.452033",
     "exception": false,
     "start_time": "2021-10-30T07:32:32.444854",
     "status": "completed"
    },
    "tags": []
   },
   "source": [
    "## Recap\n",
    "You've built your first model, and now it's time to optimize the size of the tree to make better predictions. Run this cell to set up your coding environment where the previous step left off."
   ]
  },
  {
   "cell_type": "code",
   "execution_count": 1,
   "id": "3cfbac15",
   "metadata": {
    "execution": {
     "iopub.execute_input": "2021-10-30T07:32:32.482831Z",
     "iopub.status.busy": "2021-10-30T07:32:32.482073Z",
     "iopub.status.idle": "2021-10-30T07:32:33.725108Z",
     "shell.execute_reply": "2021-10-30T07:32:33.725938Z",
     "shell.execute_reply.started": "2021-10-30T07:07:15.679630Z"
    },
    "papermill": {
     "duration": 1.266162,
     "end_time": "2021-10-30T07:32:33.726438",
     "exception": false,
     "start_time": "2021-10-30T07:32:32.460276",
     "status": "completed"
    },
    "tags": []
   },
   "outputs": [
    {
     "name": "stdout",
     "output_type": "stream",
     "text": [
      "Validation MAE: 29,653\n",
      "\n",
      "Setup complete\n"
     ]
    }
   ],
   "source": [
    "# Code you have previously used to load data\n",
    "import pandas as pd\n",
    "from sklearn.metrics import mean_absolute_error\n",
    "from sklearn.model_selection import train_test_split\n",
    "from sklearn.tree import DecisionTreeRegressor\n",
    "\n",
    "\n",
    "# Path of the file to read\n",
    "iowa_file_path = '../input/home-data-for-ml-course/train.csv'\n",
    "\n",
    "home_data = pd.read_csv(iowa_file_path)\n",
    "# Create target object and call it y\n",
    "y = home_data.SalePrice\n",
    "# Create X\n",
    "features = ['LotArea', 'YearBuilt', '1stFlrSF', '2ndFlrSF', 'FullBath', 'BedroomAbvGr', 'TotRmsAbvGrd']\n",
    "X = home_data[features]\n",
    "\n",
    "# Split into validation and training data\n",
    "train_X, val_X, train_y, val_y = train_test_split(X, y, random_state=1)\n",
    "\n",
    "# Specify Model\n",
    "iowa_model = DecisionTreeRegressor(random_state=1)\n",
    "# Fit Model\n",
    "iowa_model.fit(train_X, train_y)\n",
    "\n",
    "# Make validation predictions and calculate mean absolute error\n",
    "val_predictions = iowa_model.predict(val_X)\n",
    "val_mae = mean_absolute_error(val_predictions, val_y)\n",
    "print(\"Validation MAE: {:,.0f}\".format(val_mae))\n",
    "\n",
    "# Set up code checking\n",
    "from learntools.core import binder\n",
    "binder.bind(globals())\n",
    "from learntools.machine_learning.ex5 import *\n",
    "print(\"\\nSetup complete\")"
   ]
  },
  {
   "cell_type": "markdown",
   "id": "ac252546",
   "metadata": {
    "papermill": {
     "duration": 0.007416,
     "end_time": "2021-10-30T07:32:33.745753",
     "exception": false,
     "start_time": "2021-10-30T07:32:33.738337",
     "status": "completed"
    },
    "tags": []
   },
   "source": [
    "# Exercises\n",
    "You could write the function `get_mae` yourself. For now, we'll supply it. This is the same function you read about in the previous lesson. Just run the cell below."
   ]
  },
  {
   "cell_type": "code",
   "execution_count": 2,
   "id": "6799dbbe",
   "metadata": {
    "execution": {
     "iopub.execute_input": "2021-10-30T07:32:33.768154Z",
     "iopub.status.busy": "2021-10-30T07:32:33.767407Z",
     "iopub.status.idle": "2021-10-30T07:32:33.769773Z",
     "shell.execute_reply": "2021-10-30T07:32:33.770336Z",
     "shell.execute_reply.started": "2021-10-30T07:13:18.698385Z"
    },
    "papermill": {
     "duration": 0.016469,
     "end_time": "2021-10-30T07:32:33.770535",
     "exception": false,
     "start_time": "2021-10-30T07:32:33.754066",
     "status": "completed"
    },
    "tags": []
   },
   "outputs": [],
   "source": [
    "def get_mae(max_leaf_nodes, train_X, val_X, train_y, val_y):\n",
    "    model = DecisionTreeRegressor(max_leaf_nodes=max_leaf_nodes, random_state=0)\n",
    "    model.fit(train_X, train_y)\n",
    "    preds_val = model.predict(val_X)\n",
    "    mae = mean_absolute_error(val_y, preds_val)\n",
    "    return(mae)"
   ]
  },
  {
   "cell_type": "markdown",
   "id": "a7dca737",
   "metadata": {
    "papermill": {
     "duration": 0.007308,
     "end_time": "2021-10-30T07:32:33.785545",
     "exception": false,
     "start_time": "2021-10-30T07:32:33.778237",
     "status": "completed"
    },
    "tags": []
   },
   "source": [
    "## Step 1: Compare Different Tree Sizes\n",
    "Write a loop that tries the following values for *max_leaf_nodes* from a set of possible values.\n",
    "\n",
    "Call the *get_mae* function on each value of max_leaf_nodes. Store the output in some way that allows you to select the value of `max_leaf_nodes` that gives the most accurate model on your data."
   ]
  },
  {
   "cell_type": "code",
   "execution_count": 3,
   "id": "70ea9e36",
   "metadata": {
    "execution": {
     "iopub.execute_input": "2021-10-30T07:32:33.805174Z",
     "iopub.status.busy": "2021-10-30T07:32:33.804454Z",
     "iopub.status.idle": "2021-10-30T07:32:33.911754Z",
     "shell.execute_reply": "2021-10-30T07:32:33.910975Z",
     "shell.execute_reply.started": "2021-10-30T07:30:37.778924Z"
    },
    "papermill": {
     "duration": 0.119025,
     "end_time": "2021-10-30T07:32:33.912100",
     "exception": true,
     "start_time": "2021-10-30T07:32:33.793075",
     "status": "failed"
    },
    "tags": []
   },
   "outputs": [
    {
     "ename": "NameError",
     "evalue": "name 'max_leaf_nodes' is not defined",
     "output_type": "error",
     "traceback": [
      "\u001b[0;31m---------------------------------------------------------------------------\u001b[0m",
      "\u001b[0;31mNameError\u001b[0m                                 Traceback (most recent call last)",
      "\u001b[0;32m/tmp/ipykernel_19/2705041659.py\u001b[0m in \u001b[0;36m<module>\u001b[0;34m\u001b[0m\n\u001b[1;32m      3\u001b[0m \u001b[0;32mfor\u001b[0m \u001b[0mleaf_size\u001b[0m \u001b[0;32min\u001b[0m \u001b[0mcandidate_max_leaf_nodes\u001b[0m\u001b[0;34m:\u001b[0m\u001b[0;34m\u001b[0m\u001b[0;34m\u001b[0m\u001b[0m\n\u001b[1;32m      4\u001b[0m     \u001b[0mleaf_size\u001b[0m \u001b[0;34m=\u001b[0m \u001b[0mget_mae\u001b[0m\u001b[0;34m(\u001b[0m\u001b[0mleaf_size\u001b[0m\u001b[0;34m,\u001b[0m \u001b[0mtrain_X\u001b[0m\u001b[0;34m,\u001b[0m \u001b[0mval_X\u001b[0m\u001b[0;34m,\u001b[0m \u001b[0mtrain_y\u001b[0m\u001b[0;34m,\u001b[0m \u001b[0mval_y\u001b[0m\u001b[0;34m)\u001b[0m\u001b[0;34m\u001b[0m\u001b[0;34m\u001b[0m\u001b[0m\n\u001b[0;32m----> 5\u001b[0;31m     \u001b[0mprint\u001b[0m\u001b[0;34m(\u001b[0m\u001b[0;34m\"Max leaf nodes: %d  \\t\\t Mean Absolute Error:  %d\"\u001b[0m \u001b[0;34m%\u001b[0m\u001b[0;34m(\u001b[0m\u001b[0mmax_leaf_nodes\u001b[0m\u001b[0;34m,\u001b[0m \u001b[0mleaf_size\u001b[0m\u001b[0;34m)\u001b[0m\u001b[0;34m)\u001b[0m\u001b[0;34m\u001b[0m\u001b[0;34m\u001b[0m\u001b[0m\n\u001b[0m\u001b[1;32m      6\u001b[0m \u001b[0;34m\u001b[0m\u001b[0m\n\u001b[1;32m      7\u001b[0m '''\n",
      "\u001b[0;31mNameError\u001b[0m: name 'max_leaf_nodes' is not defined"
     ]
    }
   ],
   "source": [
    "candidate_max_leaf_nodes = [5, 25, 50, 100, 250, 500]\n",
    "# Write loop to find the ideal tree size from candidate_max_leaf_nodes\n",
    "for leaf_size in candidate_max_leaf_nodes:\n",
    "    leaf_size = get_mae(leaf_size, train_X, val_X, train_y, val_y)\n",
    "    print(\"Max leaf nodes: %d  \\t\\t Mean Absolute Error:  %d\" %(max_leaf_nodes, leaf_size))\n",
    "\n",
    "'''\n",
    "for max_leaf_nodes in candidate_max_leaf_nodes:\n",
    "    leaf_size = get_mae(max_leaf_nodes, train_X, val_X, train_y, val_y)\n",
    "    print(\"Max leaf nodes: %d  \\t\\t Mean Absolute Error:  %d\" %(max_leaf_nodes, leaf_size))\n",
    "    # it leaves the similar output with the code above, except the max leaf nodes values ones\n",
    "    # try to find how to sort the max leaf nodes value, based on candidate_max_nodes index\n",
    "'''\n",
    "    \n",
    "# Store the best value of max_leaf_nodes (it will be either 5, 25, 50, 100, 250 or 500)\n",
    "# the code below use dictionary function and equivalent to the explicit loop above\n",
    "\n",
    "scores = {leaf_size: get_mae(leaf_size, train_X, val_X, train_y, val_y) for leaf_size in candidate_max_leaf_nodes}\n",
    "best_tree_size = min(scores, key=scores.get)\n",
    "\n",
    "# Check your answer\n",
    "step_1.check()"
   ]
  },
  {
   "cell_type": "code",
   "execution_count": null,
   "id": "3718bb94",
   "metadata": {
    "execution": {
     "iopub.execute_input": "2021-10-30T07:07:34.786336Z",
     "iopub.status.busy": "2021-10-30T07:07:34.785581Z",
     "iopub.status.idle": "2021-10-30T07:07:34.796924Z",
     "shell.execute_reply": "2021-10-30T07:07:34.796164Z",
     "shell.execute_reply.started": "2021-10-30T07:07:34.786294Z"
    },
    "papermill": {
     "duration": null,
     "end_time": null,
     "exception": null,
     "start_time": null,
     "status": "pending"
    },
    "tags": []
   },
   "outputs": [],
   "source": [
    "# The lines below will show you a hint or the solution.\n",
    "step_1.hint() \n",
    "step_1.solution()"
   ]
  },
  {
   "cell_type": "markdown",
   "id": "d76ed25d",
   "metadata": {
    "papermill": {
     "duration": null,
     "end_time": null,
     "exception": null,
     "start_time": null,
     "status": "pending"
    },
    "tags": []
   },
   "source": [
    "## Step 2: Fit Model Using All Data\n",
    "You know the best tree size. If you were going to deploy this model in practice, you would make it even more accurate by using all of the data and keeping that tree size.  That is, you don't need to hold out the validation data now that you've made all your modeling decisions."
   ]
  },
  {
   "cell_type": "code",
   "execution_count": null,
   "id": "10f32968",
   "metadata": {
    "execution": {
     "iopub.status.busy": "2021-10-30T07:07:15.899472Z",
     "iopub.status.idle": "2021-10-30T07:07:15.900093Z",
     "shell.execute_reply": "2021-10-30T07:07:15.899860Z",
     "shell.execute_reply.started": "2021-10-30T07:07:15.899833Z"
    },
    "papermill": {
     "duration": null,
     "end_time": null,
     "exception": null,
     "start_time": null,
     "status": "pending"
    },
    "tags": []
   },
   "outputs": [],
   "source": [
    "# Fill in argument to make optimal size and uncomment\n",
    "# final_model = DecisionTreeRegressor(____)\n",
    "\n",
    "# fit the final model and uncomment the next two lines\n",
    "# final_model.fit(____, ____)\n",
    "\n",
    "# Check your answer\n",
    "step_2.check()"
   ]
  },
  {
   "cell_type": "code",
   "execution_count": null,
   "id": "fa78cd9f",
   "metadata": {
    "execution": {
     "iopub.execute_input": "2021-10-30T07:12:01.118151Z",
     "iopub.status.busy": "2021-10-30T07:12:01.117731Z",
     "iopub.status.idle": "2021-10-30T07:12:01.128247Z",
     "shell.execute_reply": "2021-10-30T07:12:01.127375Z",
     "shell.execute_reply.started": "2021-10-30T07:12:01.118104Z"
    },
    "papermill": {
     "duration": null,
     "end_time": null,
     "exception": null,
     "start_time": null,
     "status": "pending"
    },
    "tags": []
   },
   "outputs": [],
   "source": [
    "step_2.hint()\n",
    "step_2.solution()"
   ]
  },
  {
   "cell_type": "markdown",
   "id": "83087e5e",
   "metadata": {
    "papermill": {
     "duration": null,
     "end_time": null,
     "exception": null,
     "start_time": null,
     "status": "pending"
    },
    "tags": []
   },
   "source": [
    "You've tuned this model and improved your results. But we are still using Decision Tree models, which are not very sophisticated by modern machine learning standards. In the next step you will learn to use Random Forests to improve your models even more.\n",
    "\n",
    "# Keep Going\n",
    "\n",
    "You are ready for **[Random Forests](https://www.kaggle.com/dansbecker/random-forests).**\n"
   ]
  }
 ],
 "metadata": {
  "kernelspec": {
   "display_name": "Python 3",
   "language": "python",
   "name": "python3"
  },
  "language_info": {
   "codemirror_mode": {
    "name": "ipython",
    "version": 3
   },
   "file_extension": ".py",
   "mimetype": "text/x-python",
   "name": "python",
   "nbconvert_exporter": "python",
   "pygments_lexer": "ipython3",
   "version": "3.7.10"
  },
  "papermill": {
   "default_parameters": {},
   "duration": 11.194225,
   "end_time": "2021-10-30T07:32:34.840468",
   "environment_variables": {},
   "exception": true,
   "input_path": "__notebook__.ipynb",
   "output_path": "__notebook__.ipynb",
   "parameters": {},
   "start_time": "2021-10-30T07:32:23.646243",
   "version": "2.3.3"
  }
 },
 "nbformat": 4,
 "nbformat_minor": 5
}
